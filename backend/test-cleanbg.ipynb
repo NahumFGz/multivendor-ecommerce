{
 "cells": [
  {
   "cell_type": "code",
   "execution_count": 11,
   "metadata": {},
   "outputs": [],
   "source": [
    "from rembg import remove\n",
    "from PIL import Image\n",
    "import io\n",
    "\n",
    "input_path = '/Users/nahumfg/Projects/GitHubProjects/multivendor-ecommerce/backend/assets/media/product/product/G8q5AygxCVsMfSRPNaGqjz.jpg'\n",
    "output_path = 'output_image_1.png'\n",
    "\n",
    "with open(input_path, 'rb') as input_file:\n",
    "    input_data = input_file.read()\n",
    "    \n",
    "output_data = remove(input_data)\n",
    "\n",
    "with open(output_path, 'wb') as output_file:\n",
    "    output_file.write(output_data)\n"
   ]
  },
  {
   "cell_type": "code",
   "execution_count": 1,
   "metadata": {},
   "outputs": [
    {
     "name": "stdout",
     "output_type": "stream",
     "text": [
      "Procesado: oCkCH5cvHVz9ePpeXXagzC.jpg\n",
      "Procesado: G67aspwdhkTwtYtc5yQP5t.jpg\n",
      "Procesado: hdaw7yHSPJngBG6zBJoBKz.jpg\n",
      "Procesado: eHbi7GUAhuh8i93PtDRgJj.jpg\n",
      "Procesado: 7A9x8wDMUfHCQ4fabhamh9.jpg\n",
      "Procesado: jUUV4H9ACTyvvMzdtQfVa6.jpg\n",
      "Procesado: kw5ZQ59qw9XHJdcWTyqLEJ.jpg\n",
      "Procesado: fmDcnsGYm2DseZowRhFCrj.jpg\n",
      "Procesado: MPTcPmtHbGazQXzDRnotH8.jpg\n",
      "Procesado: iHcFZSNqmXx4UeEQhHJwi6.jpg\n",
      "Procesado: 6FgekSx384DuTtgUvHfxrV.jpg\n",
      "Procesado: 2BNX7xArvHgnu5zCDd6PrE.jpg\n",
      "Procesado: cpaKEfRgLgGA3gdjfecWA7.jpg\n",
      "Procesado: 4KfeGgiCwu7JswkekjG6rn.jpg\n",
      "Procesado: 3uCukmkYfSMcCttvdAe9Fv.jpg\n",
      "Procesado: Jjo4qFEfmfiVTafet2Ht2t.jpg\n",
      "Procesado: Nkawdsh7Ery3bawZtUznZL.jpg\n",
      "Procesado: 3Vxsr4kGq8fzWxbgwZpC95.jpg\n",
      "Procesado: mTS9JSKyQwPtWerJrSjt66.jpg\n",
      "Procesado: MAR2HTj5TTy8QmSvrefoz4.jpg\n",
      "Procesado: 6PjKtACgQXHRgqTQaKanji.jpg\n",
      "Procesado: BgwmBiXwjJmRZgNX4sy66f.jpg\n",
      "Procesado: bcffvLQcfatMU2MgipjgQW.jpg\n",
      "Procesado: Sm2DqAoAyxfxiHBxknVwfR.jpg\n",
      "Procesado: 2gCQgs9an7bhmjEZw6MKkm.jpg\n",
      "Procesado: NFbe7Aa5mpbmta3SHJA4AT.jpg\n",
      "Procesado: Esbzst2c8aNpNPwEhXfPg5.jpg\n",
      "Procesado: G8q5AygxCVsMfSRPNaGqjz.jpg\n",
      "Procesado: CvyJzLRfChm7yHmDvezMZ4.jpg\n",
      "Procesado: eDojSQBc3oCZumYzjjsfC9.jpg\n",
      "Procesado: 2uSkbww9wQwJ6C27dfnrhF.jpg\n",
      "Procesado: 2SyQq79DLRXjoHmoux3z9E.jpg\n",
      "Procesado: FjTEF2M6uGUuwMNBmZocfc.jpg\n",
      "Procesado: fXzhaVdwdagsNzsR64mnvw.jpg\n",
      "Procesado: LCvjPMW32pNSTs8WnyNDWH.jpg\n",
      "Procesado: XHPtpUrtXGmtU6DBx3XZBJ.jpg\n",
      "Procesado: 7MMKTtPUJvFpWXgXreBx9X.jpg\n",
      "Proceso completado.\n"
     ]
    }
   ],
   "source": [
    "import os\n",
    "from rembg import remove\n",
    "from PIL import Image\n",
    "\n",
    "input_folder = '/Users/nahumfg/Projects/GitHubProjects/multivendor-ecommerce/backend/assets/media/product/product'  # Carpeta de entrada con las imágenes\n",
    "output_folder = '/Users/nahumfg/Projects/GitHubProjects/multivendor-ecommerce/backend/venv_out'  # Carpeta de salida para las imágenes procesadas\n",
    "\n",
    "# Crear la carpeta de salida si no existe\n",
    "if not os.path.exists(output_folder):\n",
    "    os.makedirs(output_folder)\n",
    "\n",
    "# Recorrer todos los archivos en la carpeta de entrada\n",
    "for filename in os.listdir(input_folder):\n",
    "    # Construir las rutas de archivo completas\n",
    "    input_path = os.path.join(input_folder, filename)\n",
    "    output_path = os.path.join(output_folder, os.path.splitext(filename)[0] + '.png')\n",
    "\n",
    "    try:\n",
    "        # Abrir la imagen\n",
    "        input_image = Image.open(input_path)\n",
    "\n",
    "        # Quitar el fondo\n",
    "        output_image = remove(input_image)\n",
    "\n",
    "        # Guardar la imagen sin fondo en formato PNG\n",
    "        output_image.save(output_path)\n",
    "\n",
    "        print(f'Procesado: {filename}')\n",
    "    except Exception as e:\n",
    "        print(f'Error procesando {filename}: {e}')\n",
    "\n",
    "print('Proceso completado.')\n"
   ]
  },
  {
   "cell_type": "code",
   "execution_count": null,
   "metadata": {},
   "outputs": [],
   "source": []
  }
 ],
 "metadata": {
  "kernelspec": {
   "display_name": "venv_backend",
   "language": "python",
   "name": "python3"
  },
  "language_info": {
   "codemirror_mode": {
    "name": "ipython",
    "version": 3
   },
   "file_extension": ".py",
   "mimetype": "text/x-python",
   "name": "python",
   "nbconvert_exporter": "python",
   "pygments_lexer": "ipython3",
   "version": "3.9.6"
  }
 },
 "nbformat": 4,
 "nbformat_minor": 2
}
