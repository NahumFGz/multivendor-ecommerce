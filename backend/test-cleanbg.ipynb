{
 "cells": [
  {
   "cell_type": "code",
   "execution_count": 11,
   "metadata": {},
   "outputs": [],
   "source": [
    "from rembg import remove\n",
    "from PIL import Image\n",
    "import io\n",
    "\n",
    "input_path = '/Users/nahumfg/Projects/GitHubProjects/multivendor-ecommerce/backend/assets/media/product/product/G8q5AygxCVsMfSRPNaGqjz.jpg'\n",
    "output_path = 'output_image_1.png'\n",
    "\n",
    "with open(input_path, 'rb') as input_file:\n",
    "    input_data = input_file.read()\n",
    "    \n",
    "output_data = remove(input_data)\n",
    "\n",
    "with open(output_path, 'wb') as output_file:\n",
    "    output_file.write(output_data)\n"
   ]
  },
  {
   "cell_type": "code",
   "execution_count": null,
   "metadata": {},
   "outputs": [],
   "source": [
    "import os\n",
    "from rembg import remove\n",
    "from PIL import Image\n",
    "\n",
    "input_folder = 'input_folder'  # Carpeta de entrada con las imágenes\n",
    "output_folder = 'output_folder'  # Carpeta de salida para las imágenes procesadas\n",
    "\n",
    "# Crear la carpeta de salida si no existe\n",
    "if not os.path.exists(output_folder):\n",
    "    os.makedirs(output_folder)\n",
    "\n",
    "# Recorrer todos los archivos en la carpeta de entrada\n",
    "for filename in os.listdir(input_folder):\n",
    "    # Construir las rutas de archivo completas\n",
    "    input_path = os.path.join(input_folder, filename)\n",
    "    output_path = os.path.join(output_folder, os.path.splitext(filename)[0] + '.png')\n",
    "\n",
    "    try:\n",
    "        # Abrir la imagen\n",
    "        input_image = Image.open(input_path)\n",
    "\n",
    "        # Quitar el fondo\n",
    "        output_image = remove(input_image)\n",
    "\n",
    "        # Guardar la imagen sin fondo en formato PNG\n",
    "        output_image.save(output_path)\n",
    "\n",
    "        print(f'Procesado: {filename}')\n",
    "    except Exception as e:\n",
    "        print(f'Error procesando {filename}: {e}')\n",
    "\n",
    "print('Proceso completado.')\n"
   ]
  }
 ],
 "metadata": {
  "kernelspec": {
   "display_name": "venv_backend",
   "language": "python",
   "name": "python3"
  },
  "language_info": {
   "codemirror_mode": {
    "name": "ipython",
    "version": 3
   },
   "file_extension": ".py",
   "mimetype": "text/x-python",
   "name": "python",
   "nbconvert_exporter": "python",
   "pygments_lexer": "ipython3",
   "version": "3.9.6"
  }
 },
 "nbformat": 4,
 "nbformat_minor": 2
}
