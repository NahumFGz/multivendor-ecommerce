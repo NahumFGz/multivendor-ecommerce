{
 "cells": [
  {
   "cell_type": "code",
   "execution_count": 11,
   "metadata": {},
   "outputs": [],
   "source": [
    "from rembg import remove\n",
    "from PIL import Image\n",
    "import io\n",
    "\n",
    "input_path = '/Users/nahumfg/Projects/GitHubProjects/multivendor-ecommerce/backend/assets/media/product/product/G8q5AygxCVsMfSRPNaGqjz.jpg'\n",
    "output_path = 'output_image_1.png'\n",
    "\n",
    "with open(input_path, 'rb') as input_file:\n",
    "    input_data = input_file.read()\n",
    "    \n",
    "output_data = remove(input_data)\n",
    "\n",
    "with open(output_path, 'wb') as output_file:\n",
    "    output_file.write(output_data)\n"
   ]
  },
  {
   "cell_type": "code",
   "execution_count": 12,
   "metadata": {},
   "outputs": [],
   "source": [
    "from rembg import remove\n",
    "from PIL import Image\n",
    "\n",
    "output_path = 'output_image_2.png'\n",
    "\n",
    "# Abrir la imagen original\n",
    "input_image = Image.open(input_path)\n",
    "\n",
    "# Quitar el fondo\n",
    "output_image = remove(input_image)\n",
    "\n",
    "# Guardar la imagen sin fondo en formato PNG\n",
    "output_image.save(output_path)"
   ]
  },
  {
   "cell_type": "code",
   "execution_count": 13,
   "metadata": {},
   "outputs": [
    {
     "data": {
      "text/plain": [
       "True"
      ]
     },
     "execution_count": 13,
     "metadata": {},
     "output_type": "execute_result"
    }
   ],
   "source": [
    "import cv2\n",
    "import numpy as np\n",
    "output_path = 'output_image_3.png'\n",
    "\n",
    "# Cargar la imagen\n",
    "image = cv2.imread(input_path)\n",
    "\n",
    "# Convertir a escala de grises\n",
    "gray = cv2.cvtColor(image, cv2.COLOR_BGR2GRAY)\n",
    "\n",
    "# Crear una máscara donde los píxeles blancos se convierten en 255 (blanco) y los demás en 0 (negro)\n",
    "_, mask = cv2.threshold(gray, 240, 255, cv2.THRESH_BINARY)\n",
    "\n",
    "# Invertir la máscara\n",
    "mask_inv = cv2.bitwise_not(mask)\n",
    "\n",
    "# Crear una imagen con el fondo transparente\n",
    "image_rgba = cv2.cvtColor(image, cv2.COLOR_BGR2BGRA)\n",
    "image_rgba[:, :, 3] = mask_inv\n",
    "\n",
    "# Guardar la imagen resultante\n",
    "cv2.imwrite(output_path, image_rgba)"
   ]
  },
  {
   "cell_type": "code",
   "execution_count": null,
   "metadata": {},
   "outputs": [],
   "source": []
  }
 ],
 "metadata": {
  "kernelspec": {
   "display_name": "venv_backend",
   "language": "python",
   "name": "python3"
  },
  "language_info": {
   "codemirror_mode": {
    "name": "ipython",
    "version": 3
   },
   "file_extension": ".py",
   "mimetype": "text/x-python",
   "name": "python",
   "nbconvert_exporter": "python",
   "pygments_lexer": "ipython3",
   "version": "3.9.6"
  }
 },
 "nbformat": 4,
 "nbformat_minor": 2
}
